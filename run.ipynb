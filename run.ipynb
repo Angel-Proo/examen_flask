{
 "cells": [
  {
   "cell_type": "markdown",
   "metadata": {},
   "source": [
    "# Examen de Python\n",
    "### Este examen abarca temas basicos de python con Flask, Flask-Jinja, SocketIO y Pyodbc"
   ]
  },
  {
   "cell_type": "markdown",
   "metadata": {},
   "source": [
    "##### Importa las librerias de Python que ocuparas\n",
    "* aqui debes incluir importes a tu propio codigo"
   ]
  },
  {
   "cell_type": "code",
   "execution_count": null,
   "metadata": {},
   "outputs": [],
   "source": [
    "from flask import Flask, render_template, redirect, url_for, request\n",
    "from flask_socketio import SocketIO\n",
    "import random\n",
    "import socket\n",
    "import pyodbc\n",
    "import json\n",
    "\n",
    "from flask_wtf import FlaskForm\n",
    "from wtforms import StringField, SelectField, SubmitField"
   ]
  },
  {
   "cell_type": "markdown",
   "metadata": {},
   "source": [
    "##### Crea las variables para iniciar tu app, asi como la configuracion de tu variable socketio"
   ]
  },
  {
   "cell_type": "code",
   "execution_count": null,
   "metadata": {},
   "outputs": [],
   "source": [
    "password = hex(random.randint(0,10000))\n",
    "\n",
    "app = Flask(__name__)\n",
    "app.config['SECRET_KEY'] = password\n",
    "socketio = SocketIO(app)"
   ]
  },
  {
   "cell_type": "markdown",
   "metadata": {},
   "source": [
    "#### Crea la clase para la conexion a la base de datos con Pyodbc, eres libre de crear la estructura"
   ]
  },
  {
   "cell_type": "code",
   "execution_count": null,
   "metadata": {},
   "outputs": [],
   "source": [
    "class ConexionBasedeDatos:\n",
    "    def __init__(self, servidor,base,usuario,contraseña):\n",
    "        self.servidor = servidor\n",
    "        self.base = base\n",
    "        self.usuario = usuario\n",
    "        self.contraseña = contraseña\n",
    "        self.conexion = None\n",
    "        \n",
    "    def conectar(self):\n",
    "        try:\n",
    "            strconexion = f\"DRIVER={{ODBC Driver 17 for SQL Server}}; SERVER={self.servidor};DATABASE={self.base};UID={self.usuario};PWD={self.contraseña}\"\n",
    "            self.conexion = pyodbc.connect(strconexion)\n",
    "            print('Conexion exitosa'.center(50,'*'))\n",
    "            \n",
    "        except pyodbc.Error as error:\n",
    "            print(f'Error de conexion: {str(error)}')\n",
    "            \n",
    "    def cerrar_conexion(self):\n",
    "        if self.conexion is not None:\n",
    "            self.conexion.close()\n",
    "            print('Conexion cerrada'.center(50,'*'))\n",
    "            \n",
    "    def ejecutar_query(self,query):\n",
    "        try:\n",
    "            cursor = self.conexion.cursor()\n",
    "            cursor.execute(query)\n",
    "            filas = cursor.fetchall()\n",
    "            return filas\n",
    "        \n",
    "        except pyodbc.Error as error:\n",
    "            print(f'Error en consulta: {str(error)}')\n",
    "            \n",
    "    def ejecutar_query_one(self,query):\n",
    "        try:\n",
    "            cursor = self.conexion.cursor()\n",
    "            cursor.execute(query)\n",
    "            filas = cursor.fetchone()\n",
    "            return filas\n",
    "        \n",
    "        except pyodbc.Error as error:\n",
    "            print(f'Error en consulta: {str(error)}')\n",
    " \n",
    "    def ejecutar_instruccion(self,query):\n",
    "        try:\n",
    "            cursor = self.conexion.cursor()\n",
    "            cursor.execute(query)\n",
    "            cursor.commit()\n",
    "            return 'Se ejecuto correctamente'.center(50,'*')\n",
    "        except pyodbc.Error as error:\n",
    "            print(f'Error en consulta: {str(error)}')\n",
    "            \n",
    "conexion = ConexionBasedeDatos('SP-DR','s4','s4_admin','admin')"
   ]
  },
  {
   "cell_type": "markdown",
   "metadata": {},
   "source": [
    "#### Crea una clase FormUsuario con wtforms, crea un formulario con wtforms con los siguientes campos y documentalo\n",
    "* Usuario\n",
    "* Contraseña\n",
    "* Area \"Debe ser una consulta SQL\"\n",
    "* Sub Area \"Debe depender del valor del area\"\n",
    "### Si no usar wtfors, hazlo directo en HTML pero debes implementar SocketIO en ambos casos para llenar el campo de puesto en funcion de la seleccion del Area"
   ]
  },
  {
   "cell_type": "code",
   "execution_count": null,
   "metadata": {},
   "outputs": [],
   "source": [
    "class FormUsuario(FlaskForm):\n",
    "    usuario = StringField('Usuario')\n",
    "    contraseña = StringField('Contraseña')\n",
    "    area = SelectField('Selecciona Area')\n",
    "    puesto = SelectField('Seleccionar Puesto')\n",
    "    boton = SubmitField('Enviar')\n",
    "\n",
    "    def __init__(self,*args,**kargs):\n",
    "        super(FormUsuario, self).__init__(*args,**kargs)\n",
    "        self.area.choices = self.buscar_opciones()\n",
    "        \n",
    "    def buscar_opciones(self):\n",
    "        conexion.conectar() \n",
    "        consulta = \"SELECT id_area, area_descripcion FROM Tabla_Areas WHERE area_activo = 1\"\n",
    "        resultado = conexion.ejecutar_query(consulta)\n",
    "        opciones = [(dato[0], dato[1]) for dato in resultado]\n",
    "        opciones.insert(0,('',f'Selecciona Area'))\n",
    "        conexion.cerrar_conexion()\n",
    "        return opciones   "
   ]
  },
  {
   "cell_type": "markdown",
   "metadata": {},
   "source": [
    "#### Crea tu ruta principal que cumpla estos requisitos\n",
    "* La ruta debe generarse en / y /home\n",
    "* Agregar el metodo es opcional\n",
    "* Se debe renderizar el html con el nombre 'index.html'\n",
    "* Envia por variable tu nombre completo y crea un boton que te envie con url_for a la ruta '/formulario'"
   ]
  },
  {
   "cell_type": "code",
   "execution_count": null,
   "metadata": {},
   "outputs": [],
   "source": [
    "@app.route('/')\n",
    "@app.route('/home')\n",
    "def index():\n",
    "    nombre = 'Angel de Jesus Proo Martinez'\n",
    "    return render_template('index.html', nombre = nombre)"
   ]
  },
  {
   "cell_type": "markdown",
   "metadata": {},
   "source": [
    "#### Crea la ruta del formulario, renderiza un archivo llamado 'form.html', agrega los metodos get y post\n",
    "#### Crea la logica para guardar al nuevo usuario con pyodbc y redireccionar a la funcion 'index'"
   ]
  },
  {
   "cell_type": "code",
   "execution_count": null,
   "metadata": {},
   "outputs": [],
   "source": [
    "@app.route('/formulario', methods=['GET','POST'])\n",
    "def formulario():\n",
    "    form = FormUsuario()\n",
    "    \n",
    "    if request.method == 'POST':\n",
    "        conexion.conectar()\n",
    "        instruccion = f\"\"\"INSERT INTO Tabla_Usuarios (usuario, contraseña, id_area, id_puesto) \n",
    "                            VALUES('{form.usuario.data}','{form.contraseña.data}',{form.area.data}, {form.puesto.data})\"\"\"\n",
    "        conexion.ejecutar_instruccion(instruccion)\n",
    "        conexion.cerrar_conexion()\n",
    "        return redirect(url_for('index'))\n",
    "    \n",
    "    return render_template('form.html', form = form)"
   ]
  },
  {
   "cell_type": "markdown",
   "metadata": {},
   "source": [
    "#### Aqui ingresa la logica de un socket para recibir el area y otro para mandar la lista de sub areas"
   ]
  },
  {
   "cell_type": "code",
   "execution_count": null,
   "metadata": {},
   "outputs": [],
   "source": [
    "@socketio.on('solicitar_puestos')\n",
    "def solicitar_puestos(area):\n",
    "    conexion.conectar()\n",
    "    consulta = f'SELECT id_puesto, descripcion_puesto FROM Tabla_Puestos WHERE id_area = {area}'\n",
    "    resultado = conexion.ejecutar_query(consulta)\n",
    "    print(resultado)\n",
    "    if len(resultado) == 0 :\n",
    "        puestos = []\n",
    "        diccionario = {}\n",
    "        diccionario['id'] = '0'\n",
    "        diccionario['puesto'] = 'Sin Puesto'\n",
    "        puestos.append(diccionario)\n",
    "\n",
    "    else:\n",
    "        puestos = []\n",
    "        for puesto in resultado:\n",
    "            diccionario = {}\n",
    "            diccionario['id'] = puesto[0]\n",
    "            diccionario['puesto'] = puesto[1]\n",
    "            puestos.append(diccionario)\n",
    "    \n",
    "    socketio.emit('puestos',puestos)\n",
    "            "
   ]
  },
  {
   "cell_type": "markdown",
   "metadata": {},
   "source": [
    "#### Ejecuta tu aplicacion flask a traves de un if, levanta la aplicacion con la ip del equipo y el puerto 5000, agrega todas las librerias en un archivo requerimientos.txt y coloca como comentarios el metodo que utilizaste para crearla, asi de como lo instalarias en tu entorno virtual"
   ]
  },
  {
   "cell_type": "code",
   "execution_count": null,
   "metadata": {},
   "outputs": [],
   "source": [
    "if __name__ == '__main__':\n",
    "    nombre_host = socket.gethostname()\n",
    "    direccion_ip = socket.gethostbyname(nombre_host)\n",
    "    #socketio.run(app=app,host=direccion_ip, port=5000)\n",
    "    app.run(host=direccion_ip, port=5000)\n",
    "    \n",
    "    #pip freeze > requerimientos.txt\n",
    "    #pip install -r requerimientos.txt\n",
    "    "
   ]
  },
  {
   "cell_type": "markdown",
   "metadata": {},
   "source": [
    "#### Genera la lista de todos los usarios que estan en la tabla 'examen_usuarios' y con un boton en un archivo Excel descargala, agrega tu nombre completo al archivo"
   ]
  }
 ],
 "metadata": {
  "kernelspec": {
   "display_name": "Python 3 (ipykernel)",
   "language": "python",
   "name": "python3"
  },
  "language_info": {
   "codemirror_mode": {
    "name": "ipython",
    "version": 3
   },
   "file_extension": ".py",
   "mimetype": "text/x-python",
   "name": "python",
   "nbconvert_exporter": "python",
   "pygments_lexer": "ipython3",
   "version": "3.11.5"
  }
 },
 "nbformat": 4,
 "nbformat_minor": 4
}
